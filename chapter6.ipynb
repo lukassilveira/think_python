{
 "cells": [
  {
   "attachments": {},
   "cell_type": "markdown",
   "metadata": {},
   "source": [
    "<h2>Exercício 6.2"
   ]
  },
  {
   "attachments": {},
   "cell_type": "markdown",
   "metadata": {},
   "source": [
    "A função de Ackermann, A(a, b) é definida:<br>\n",
    "![Alt text](fZ7Tu.jpg)<br>\n",
    "Escreva uma função denominada <b>ack</b> que avalie a função de Ackermann. Usa a função para avaliar ack(3, 4), cujo resultado deve ser 125."
   ]
  },
  {
   "cell_type": "code",
   "execution_count": 14,
   "metadata": {},
   "outputs": [],
   "source": [
    "def ack(m, n):\n",
    "    if not (isinstance(m, int) and isinstance(n, int)):\n",
    "        print(\"Invalid type!\")\n",
    "        return\n",
    "    elif (m < 0 and n < 0):\n",
    "        print(\"Invalid values\")\n",
    "        return\n",
    "    elif (m == 0):\n",
    "        return n + 1\n",
    "    elif (m > 0 and n == 0):\n",
    "        return ack(m - 1, 1)\n",
    "    elif (m > 0 and n > 0):\n",
    "        return ack(m - 1, ack(m, n - 1))"
   ]
  },
  {
   "cell_type": "code",
   "execution_count": 15,
   "metadata": {},
   "outputs": [
    {
     "name": "stdout",
     "output_type": "stream",
     "text": [
      "125\n"
     ]
    }
   ],
   "source": [
    "print(ack(3, 4))"
   ]
  },
  {
   "attachments": {},
   "cell_type": "markdown",
   "metadata": {},
   "source": [
    "<h2>Exercício 6.3"
   ]
  },
  {
   "attachments": {},
   "cell_type": "markdown",
   "metadata": {},
   "source": [
    "Um palíndromo é uma palavra que se soletra da mesma forma nos dois sentidos, como \"osso\" e \"reviver\". Recursivamente, uma palavra é um palíndromo se a primeira e última letras forem iguais e o meio for um palíndromo. Escreva uma função chamada <b>is_palindrome</b> que receba uma string como argumento e retorne <b>True</b> se for um palíndromo e <b>False</b> se não for."
   ]
  },
  {
   "cell_type": "code",
   "execution_count": 22,
   "metadata": {},
   "outputs": [],
   "source": [
    "def is_palindrome(word):\n",
    "    if (len(word) <= 1):\n",
    "        return True\n",
    "    if (word[0] == word[-1]):\n",
    "        return is_palindrome(word[1:-1])\n",
    "    return False"
   ]
  },
  {
   "attachments": {},
   "cell_type": "markdown",
   "metadata": {},
   "source": [
    "<h2>Exercício 6.4"
   ]
  },
  {
   "attachments": {},
   "cell_type": "markdown",
   "metadata": {},
   "source": [
    "Um número <i>a</i> é uma potência de <i>b</i> se for divisível por <i>b</i> e <i>a/b</i> for uma potência de <i>b</i>. Escreva uma função chamada <b>is_power</b> que receba os parâmetros <b>a</b> e <b>b</b> e retorne <b>True</b> se <b>a</b> for uma potência de <b>b</b>."
   ]
  },
  {
   "cell_type": "code",
   "execution_count": 36,
   "metadata": {},
   "outputs": [],
   "source": [
    "def is_power(a, b):\n",
    "    if a == b or a == 1:\n",
    "        return True\n",
    "    if (a % b == 0):\n",
    "        return is_power(a/b, b)\n",
    "    return False"
   ]
  },
  {
   "attachments": {},
   "cell_type": "markdown",
   "metadata": {},
   "source": [
    "<h2>Exercício 6.5"
   ]
  },
  {
   "attachments": {},
   "cell_type": "markdown",
   "metadata": {},
   "source": [
    "O maior divisor comum de <i>a</i> e <i>b</i> é o maior número que divide ambos sem sobrar resto.\n",
    "\n",
    "Um modo de encontrar o MDC de dois números é observar qual é o resto r quando a é dividido por b, verificando que <i>gcd</i>(<i>a</i>, <i>b</i>) = <i>gcd</i>(<i>b</i>, <i>r</i>). Como caso-base, podemos usar <i>gcd</i>(<i>a</i>, 0) = <i>a</i>.\n",
    "\n",
    "Escreva uma função chamada <b>gcd</b> que receba os parâmetros a e b e devolva o maior divisor comum."
   ]
  },
  {
   "cell_type": "code",
   "execution_count": 3,
   "metadata": {},
   "outputs": [],
   "source": [
    "def gcd(a, b):\n",
    "    if (b == 0):\n",
    "        return a\n",
    "    return gcd(b, a % b)"
   ]
  }
 ],
 "metadata": {
  "kernelspec": {
   "display_name": "Python 3",
   "language": "python",
   "name": "python3"
  },
  "language_info": {
   "codemirror_mode": {
    "name": "ipython",
    "version": 3
   },
   "file_extension": ".py",
   "mimetype": "text/x-python",
   "name": "python",
   "nbconvert_exporter": "python",
   "pygments_lexer": "ipython3",
   "version": "3.10.1 (tags/v3.10.1:2cd268a, Dec  6 2021, 19:10:37) [MSC v.1929 64 bit (AMD64)]"
  },
  "orig_nbformat": 4,
  "vscode": {
   "interpreter": {
    "hash": "e1719be7d630e7e0894a4346e00239747771550a505546fd5ba4d63ceaa06c07"
   }
  }
 },
 "nbformat": 4,
 "nbformat_minor": 2
}
