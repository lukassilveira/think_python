{
 "cells": [
  {
   "attachments": {},
   "cell_type": "markdown",
   "metadata": {},
   "source": [
    "<h2>Exercício 9.1"
   ]
  },
  {
   "attachments": {},
   "cell_type": "markdown",
   "metadata": {},
   "source": [
    "Escreva um programa que leia words.txt e imprima apenas as palavras com mais de 20 caracteres (sem contar whitespace)."
   ]
  },
  {
   "cell_type": "code",
   "execution_count": 260,
   "metadata": {},
   "outputs": [],
   "source": [
    "def exercise91():\n",
    "    fin = open('words.txt')\n",
    "    for word in fin:\n",
    "        if len(word) > 21:\n",
    "            print(word)\n",
    "    fin.close()"
   ]
  },
  {
   "cell_type": "code",
   "execution_count": 261,
   "metadata": {},
   "outputs": [
    {
     "name": "stdout",
     "output_type": "stream",
     "text": [
      "counterdemonstrations\n",
      "\n",
      "hyperaggressivenesses\n",
      "\n",
      "microminiaturizations\n",
      "\n"
     ]
    }
   ],
   "source": [
    "exercise91()"
   ]
  },
  {
   "attachments": {},
   "cell_type": "markdown",
   "metadata": {},
   "source": [
    "<h2>Exercício 9.2"
   ]
  },
  {
   "attachments": {},
   "cell_type": "markdown",
   "metadata": {},
   "source": [
    "Em 1939, Ernest Vincent Wright publicou uma novela de 50.000 palavras, chamada Gadsby, que não contém a letra “e”. Como o “e” é a letra mais comum em inglês, isso não é algo fácil de fazer.\n",
    "\n",
    "Na verdade, é difícil até construir um único pensamento sem usar o símbolo mais comum do idioma. No início é lento, mas com prudência e horas de treino, vai ficando cada vez mais fácil.\n",
    "\n",
    "Escreva uma função chamada has_no_e que retorne True se a palavra dada não tiver a letra “e” nela.\n",
    "\n",
    "Altere seu programa na seção anterior para imprimir apenas as palavras que não têm “e” e calcule a porcentagem de palavras na lista que não têm “e”."
   ]
  },
  {
   "cell_type": "code",
   "execution_count": 262,
   "metadata": {},
   "outputs": [],
   "source": [
    "def exercise92():\n",
    "    fin = open('words.txt')\n",
    "    words_counter = 0\n",
    "    no_e_counter = 0\n",
    "    for word in fin:\n",
    "        words_counter += 1\n",
    "        if 'e' in word:\n",
    "            no_e_counter += 1\n",
    "    print(no_e_counter / words_counter * 100)\n",
    "    fin.close()"
   ]
  },
  {
   "cell_type": "code",
   "execution_count": 263,
   "metadata": {},
   "outputs": [
    {
     "name": "stdout",
     "output_type": "stream",
     "text": [
      "66.93618554617122\n"
     ]
    }
   ],
   "source": [
    "exercise92()"
   ]
  },
  {
   "attachments": {},
   "cell_type": "markdown",
   "metadata": {},
   "source": [
    "<h2>Exercício 9.3"
   ]
  },
  {
   "attachments": {},
   "cell_type": "markdown",
   "metadata": {},
   "source": [
    "Escreva uma função chamada avoids que receba uma palavra e uma série de letras proibidas, e retorne True se a palavra não usar nenhuma das letras proibidas.\n",
    "\n",
    "Altere o código para que o usuário digite uma série de letras proibidas e o programa imprima o número de palavras que não contêm nenhuma delas."
   ]
  },
  {
   "cell_type": "code",
   "execution_count": 264,
   "metadata": {},
   "outputs": [],
   "source": [
    "def avoids(word, forbidden_letters):\n",
    "    for letter in forbidden_letters:\n",
    "        if letter in word:\n",
    "            return False\n",
    "    return True\n",
    "    \n",
    "def exercise93(forbidden_letters):\n",
    "    fin = open('words.txt')\n",
    "    counter = 0\n",
    "    for word in fin:\n",
    "        if avoids(word, forbidden_letters):\n",
    "            counter += 1\n",
    "    print(counter)\n",
    "    fin.close()"
   ]
  },
  {
   "cell_type": "code",
   "execution_count": 265,
   "metadata": {},
   "outputs": [
    {
     "name": "stdout",
     "output_type": "stream",
     "text": [
      "57178\n"
     ]
    }
   ],
   "source": [
    "exercise93(\"a\")"
   ]
  },
  {
   "attachments": {},
   "cell_type": "markdown",
   "metadata": {},
   "source": [
    "<h2>Exercício 9.4"
   ]
  },
  {
   "attachments": {},
   "cell_type": "markdown",
   "metadata": {},
   "source": [
    "Escreva uma função chamada uses_only que receba uma palavra e uma série de letras e retorne True, se a palavra só contiver letras da lista."
   ]
  },
  {
   "cell_type": "code",
   "execution_count": 266,
   "metadata": {},
   "outputs": [],
   "source": [
    "def uses_only(word, allowed_letters):\n",
    "    for letter in word:\n",
    "        if letter not in allowed_letters:\n",
    "            return False\n",
    "    return True\n",
    "\n",
    "def exercise94():\n",
    "    fin = open('words.txt')\n",
    "    for word in fin:\n",
    "        line = word.strip()\n",
    "        if uses_only(line, \"acefhlo\"):\n",
    "            print(line)\n",
    "    fin.close()"
   ]
  },
  {
   "cell_type": "code",
   "execution_count": 267,
   "metadata": {},
   "outputs": [
    {
     "name": "stdout",
     "output_type": "stream",
     "text": [
      "aa\n",
      "aah\n",
      "aal\n",
      "ace\n",
      "ache\n",
      "achoo\n",
      "ae\n",
      "aff\n",
      "ah\n",
      "aha\n",
      "ahchoo\n",
      "ala\n",
      "alae\n",
      "alcohol\n",
      "ale\n",
      "alec\n",
      "alee\n",
      "alef\n",
      "alfa\n",
      "alfalfa\n",
      "all\n",
      "allele\n",
      "allheal\n",
      "aloe\n",
      "aloha\n",
      "aloof\n",
      "cacao\n",
      "cache\n",
      "caeca\n",
      "caecal\n",
      "cafe\n",
      "caleche\n",
      "calf\n",
      "call\n",
      "calla\n",
      "ceca\n",
      "cecal\n",
      "cee\n",
      "cell\n",
      "cella\n",
      "cellae\n",
      "cello\n",
      "chafe\n",
      "chaff\n",
      "chalah\n",
      "chaleh\n",
      "challah\n",
      "chef\n",
      "chela\n",
      "chelae\n",
      "cholla\n",
      "clach\n",
      "clef\n",
      "cloaca\n",
      "cloacae\n",
      "cloacal\n",
      "cloche\n",
      "coach\n",
      "coal\n",
      "coala\n",
      "coalhole\n",
      "coca\n",
      "coccal\n",
      "cochlea\n",
      "cochleae\n",
      "coco\n",
      "cocoa\n",
      "coff\n",
      "coffee\n",
      "coffle\n",
      "coho\n",
      "col\n",
      "cola\n",
      "cole\n",
      "coo\n",
      "cooch\n",
      "cooee\n",
      "coof\n",
      "cool\n",
      "each\n",
      "eche\n",
      "echo\n",
      "ecole\n",
      "eel\n",
      "ef\n",
      "eff\n",
      "efface\n",
      "eh\n",
      "el\n",
      "elf\n",
      "ell\n",
      "fa\n",
      "face\n",
      "faecal\n",
      "fall\n",
      "fallal\n",
      "falloff\n",
      "feal\n",
      "fecal\n",
      "fee\n",
      "feel\n",
      "fell\n",
      "fella\n",
      "fellah\n",
      "felloe\n",
      "feoff\n",
      "feoffee\n",
      "flea\n",
      "fleche\n",
      "flee\n",
      "fleece\n",
      "fleech\n",
      "floc\n",
      "floe\n",
      "foal\n",
      "focal\n",
      "foe\n",
      "foh\n",
      "fool\n",
      "ha\n",
      "haaf\n",
      "hae\n",
      "hah\n",
      "halala\n",
      "halalah\n",
      "hale\n",
      "half\n",
      "hall\n",
      "hallah\n",
      "hallel\n",
      "hallo\n",
      "halloa\n",
      "halloo\n",
      "halo\n",
      "haole\n",
      "he\n",
      "heal\n",
      "heel\n",
      "hell\n",
      "hellhole\n",
      "hello\n",
      "ho\n",
      "hoe\n",
      "hole\n",
      "holla\n",
      "hollo\n",
      "holloa\n",
      "holloo\n",
      "hooch\n",
      "hoof\n",
      "la\n",
      "lac\n",
      "lace\n",
      "lall\n",
      "lea\n",
      "leach\n",
      "leaf\n",
      "leal\n",
      "lech\n",
      "lee\n",
      "leech\n",
      "lo\n",
      "loach\n",
      "loaf\n",
      "loca\n",
      "local\n",
      "locale\n",
      "loch\n",
      "loco\n",
      "locofoco\n",
      "loll\n",
      "loo\n",
      "loof\n",
      "loofa\n",
      "loofah\n",
      "oaf\n",
      "oca\n",
      "oe\n",
      "of\n",
      "off\n",
      "offal\n",
      "oh\n",
      "oho\n",
      "ole\n",
      "olea\n",
      "oleo\n",
      "olla\n",
      "ooh\n"
     ]
    }
   ],
   "source": [
    "exercise94()"
   ]
  },
  {
   "attachments": {},
   "cell_type": "markdown",
   "metadata": {},
   "source": [
    "<h2>Exercício 9.5"
   ]
  },
  {
   "attachments": {},
   "cell_type": "markdown",
   "metadata": {},
   "source": [
    "Escreva uma função chamada uses_all que receba uma palavra e uma série de letras obrigatórias e retorne True se a palavra usar todas as letras obrigatórias pelo menos uma vez."
   ]
  },
  {
   "cell_type": "code",
   "execution_count": 268,
   "metadata": {},
   "outputs": [],
   "source": [
    "def uses_all(word, used_letters):\n",
    "    for letter in used_letters:\n",
    "        if used_letters not in word:\n",
    "            return False\n",
    "    return True\n"
   ]
  },
  {
   "cell_type": "code",
   "execution_count": 269,
   "metadata": {},
   "outputs": [],
   "source": [
    "def exercise95():\n",
    "    fin = open('words.txt')\n",
    "    for word in fin:\n",
    "        line = word.strip()\n",
    "        if uses_all(line, \"aeiouy\"):\n",
    "            print(line) \n",
    "    fin.close()"
   ]
  },
  {
   "attachments": {},
   "cell_type": "markdown",
   "metadata": {},
   "source": [
    "<h2>Exercício 9.6"
   ]
  },
  {
   "attachments": {},
   "cell_type": "markdown",
   "metadata": {},
   "source": [
    "Escreva uma função chamada is_abecedarian que retorne True se as letras numa palavra aparecerem em ordem alfabética (tudo bem se houver letras duplas). Quantas palavras em ordem alfabética existem?\n",
    "\n"
   ]
  },
  {
   "cell_type": "code",
   "execution_count": 5,
   "metadata": {},
   "outputs": [],
   "source": [
    "def is_abecedarian(word):\n",
    "    \"\"\"Returns true if the word has an exact sequence of the alphabet\"\"\"\n",
    "    index = 0\n",
    "    while (index < len(word) - 1):\n",
    "        if ((ord(word[index]) - ord(word[index + 1])) == -1):\n",
    "            return True\n",
    "        index += 1\n",
    "    return False"
   ]
  },
  {
   "cell_type": "code",
   "execution_count": 7,
   "metadata": {},
   "outputs": [],
   "source": [
    "def exercice96():\n",
    "    fin = open('words.txt')\n",
    "    for word in fin:\n",
    "        line = word.strip()\n",
    "        if is_abecedarian(line):\n",
    "            print(line) \n",
    "    fin.close()"
   ]
  },
  {
   "attachments": {},
   "cell_type": "markdown",
   "metadata": {},
   "source": [
    "<h2>Exercício 9.7"
   ]
  },
  {
   "attachments": {},
   "cell_type": "markdown",
   "metadata": {},
   "source": [
    "Dê uma palavra com três letras duplas consecutivas. Vou dar exemplos de palavras que quase cumprem a condição, mas não chegam lá. Por exemplo, a palavra committee, c-o-m-m-i-t-t-e-e. Seria perfeita se não fosse aquele ‘i’ que se meteu ali no meio. Ou Mississippi: M-i-s-s-i-s-s-i-p-p-i. Se pudesse tirar aqueles ‘is’, daria certo. Mas há uma palavra que tem três pares consecutivos de letras e, que eu saiba, pode ser a única palavra que existe. É claro que provavelmente haja mais umas 500, mas só consigo pensar nessa. Qual é a palavra?\n",
    "\n",
    "Escreva um programa que a encontre."
   ]
  },
  {
   "cell_type": "code",
   "execution_count": 20,
   "metadata": {},
   "outputs": [],
   "source": [
    "def check_doubles_thrice(word):\n",
    "    index = 0\n",
    "    counter = 0\n",
    "    while index < len(word) - 1:\n",
    "        if word[index] == word[index + 1]:\n",
    "            counter += 1\n",
    "            if counter == 3:\n",
    "                return True\n",
    "        index += 1\n",
    "    return False"
   ]
  },
  {
   "cell_type": "code",
   "execution_count": 21,
   "metadata": {},
   "outputs": [
    {
     "name": "stdout",
     "output_type": "stream",
     "text": [
      "a\n",
      "b\n",
      "c\n"
     ]
    }
   ],
   "source": [
    "check_doubles_thrice('aabbcc')"
   ]
  }
 ],
 "metadata": {
  "kernelspec": {
   "display_name": "Python 3",
   "language": "python",
   "name": "python3"
  },
  "language_info": {
   "codemirror_mode": {
    "name": "ipython",
    "version": 3
   },
   "file_extension": ".py",
   "mimetype": "text/x-python",
   "name": "python",
   "nbconvert_exporter": "python",
   "pygments_lexer": "ipython3",
   "version": "3.10.1"
  },
  "orig_nbformat": 4,
  "vscode": {
   "interpreter": {
    "hash": "e1719be7d630e7e0894a4346e00239747771550a505546fd5ba4d63ceaa06c07"
   }
  }
 },
 "nbformat": 4,
 "nbformat_minor": 2
}
